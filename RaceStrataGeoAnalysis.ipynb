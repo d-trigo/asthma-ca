{
 "cells": [
  {
   "cell_type": "code",
   "execution_count": 1,
   "metadata": {},
   "outputs": [],
   "source": [
    "import pandas as pd\n",
    "import plotly.express as px \n",
    "from urllib.request import urlopen\n",
    "import json\n",
    "import janitor\n",
    "import plotly.io as pio\n",
    "from json import loads, dumps\n",
    "pio.renderers.default='notebook'"
   ]
  },
  {
   "cell_type": "code",
   "execution_count": null,
   "metadata": {},
   "outputs": [],
   "source": [
    "asthmaca = pd.read_csv('asthma_redownload_utf8.csv')\n",
    "asthmaca = asthmaca.clean_names()\n",
    "asthmaca"
   ]
  },
  {
   "cell_type": "code",
   "execution_count": null,
   "metadata": {},
   "outputs": [],
   "source": [
    "asthmaca = asthmaca.query('county != \\'California\\'')\n",
    "asthmaca = asthmaca.query('year != 2015')\n",
    "asthmaca = asthmaca.query('year != 2020')\n",
    "asthmaca"
   ]
  },
  {
   "cell_type": "code",
   "execution_count": 4,
   "metadata": {},
   "outputs": [],
   "source": [
    "asthmaca = asthmaca[asthmaca['strata'] == 'Race/ethnicity'].copy()"
   ]
  },
  {
   "cell_type": "code",
   "execution_count": 5,
   "metadata": {},
   "outputs": [],
   "source": [
    "with open('California_County_Boundaries.json') as jsonfile:\n",
    "    geojson = json.load(jsonfile)\n",
    "geodf = pd.json_normalize(geojson, record_path='features')\n",
    "fipmap = geodf.set_index('properties.CountyName')['properties.County_FIPS_ID'].to_dict()\n",
    "asthmaca['fip'] = asthmaca['county'].map(fipmap)\n",
    "asthmaca['fip'] = asthmaca['fip'].astype(str)"
   ]
  },
  {
   "cell_type": "code",
   "execution_count": null,
   "metadata": {},
   "outputs": [],
   "source": [
    "fig = px.choropleth(\n",
    "    asthmaca.query('year == 2019'),\n",
    "    geojson=geojson,\n",
    "    featureidkey='properties.County_FIPS_ID',\n",
    "    locations='fip',\n",
    "    color='age_adjusted_hospitalization_rate',\n",
    "    hover_data=['county'],\n",
    "    animation_frame='strata_name',\n",
    "    width=1200,\n",
    "    labels={\n",
    "        'age_adjusted_hospitalization_rate':'Age Adjusted Hospitalization Rate (per 10,000)'\n",
    "    },\n",
    "    color_continuous_scale='YlGn'\n",
    ")\n",
    "\n",
    "fig.update_geos(fitbounds=\"locations\", visible=False)\n",
    "\n",
    "fig.show()"
   ]
  },
  {
   "cell_type": "code",
   "execution_count": null,
   "metadata": {},
   "outputs": [],
   "source": [
    "fig = px.choropleth(\n",
    "    asthmaca.query('year == 2019'),\n",
    "    geojson=geojson,\n",
    "    featureidkey='properties.County_FIPS_ID',\n",
    "    locations='fip',\n",
    "    color='age_adjusted_hospitalization_rate',\n",
    "    range_color=(0, 25),\n",
    "    hover_data=['county'],\n",
    "    animation_frame='strata_name',\n",
    "    labels={\n",
    "        'age_adjusted_hospitalization_rate':'Age Adjusted Hospitalization Rate (per 10,000)'\n",
    "    },\n",
    "    color_continuous_scale='YlGn'\n",
    ")\n",
    "\n",
    "fig.update_geos(fitbounds=\"locations\", visible=False)\n",
    "\n",
    "fig.show()"
   ]
  },
  {
   "cell_type": "code",
   "execution_count": 10,
   "metadata": {},
   "outputs": [],
   "source": [
    "fig.write_html('StrataAnalysisGeo_CorrectWidth.html')"
   ]
  }
 ],
 "metadata": {
  "kernelspec": {
   "display_name": "graphinganddata",
   "language": "python",
   "name": "python3"
  },
  "language_info": {
   "codemirror_mode": {
    "name": "ipython",
    "version": 3
   },
   "file_extension": ".py",
   "mimetype": "text/x-python",
   "name": "python",
   "nbconvert_exporter": "python",
   "pygments_lexer": "ipython3",
   "version": "3.11.7"
  }
 },
 "nbformat": 4,
 "nbformat_minor": 2
}
